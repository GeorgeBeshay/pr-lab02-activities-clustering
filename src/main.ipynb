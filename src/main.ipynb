{
 "cells": [
  {
   "cell_type": "markdown",
   "source": [
    "# Imports"
   ],
   "metadata": {
    "collapsed": false
   },
   "id": "13702c25168fa312"
  },
  {
   "cell_type": "code",
   "outputs": [],
   "source": [
    "import numpy as np\n",
    "import data"
   ],
   "metadata": {
    "collapsed": false,
    "ExecuteTime": {
     "end_time": "2024-03-21T19:56:57.072562Z",
     "start_time": "2024-03-21T19:56:57.062970Z"
    }
   },
   "id": "536e1dd031bef1bf",
   "execution_count": 4
  },
  {
   "cell_type": "markdown",
   "source": [
    "# Reading Data"
   ],
   "metadata": {
    "collapsed": false
   },
   "id": "4a09979437deefd7"
  },
  {
   "cell_type": "code",
   "execution_count": 5,
   "id": "initial_id",
   "metadata": {
    "collapsed": true,
    "ExecuteTime": {
     "end_time": "2024-03-21T19:57:09.510832Z",
     "start_time": "2024-03-21T19:56:57.074568Z"
    }
   },
   "outputs": [
    {
     "name": "stdout",
     "output_type": "stream",
     "text": [
      "(9120, 125, 45)\n",
      "(9120, 45)\n",
      "(9120, 5625)\n"
     ]
    }
   ],
   "source": [
    "dataLoader = data.DataLoader()\n",
    "pure_dataset = dataLoader.get_pure_data()\n",
    "solution_a_dataset = dataLoader.get_modified_data_solution_a()\n",
    "solution_b_dataset = dataLoader.get_modified_data_solution_b()\n",
    "print(pure_dataset.shape)\n",
    "print(solution_a_dataset.shape)\n",
    "print(solution_b_dataset.shape)"
   ]
  },
  {
   "cell_type": "code",
   "outputs": [],
   "source": [],
   "metadata": {
    "collapsed": false,
    "ExecuteTime": {
     "end_time": "2024-03-21T19:57:09.515182Z",
     "start_time": "2024-03-21T19:57:09.511847Z"
    }
   },
   "id": "4125d5f75c34f1fa",
   "execution_count": 5
  }
 ],
 "metadata": {
  "kernelspec": {
   "display_name": "Python 3",
   "language": "python",
   "name": "python3"
  },
  "language_info": {
   "codemirror_mode": {
    "name": "ipython",
    "version": 2
   },
   "file_extension": ".py",
   "mimetype": "text/x-python",
   "name": "python",
   "nbconvert_exporter": "python",
   "pygments_lexer": "ipython2",
   "version": "2.7.6"
  }
 },
 "nbformat": 4,
 "nbformat_minor": 5
}
