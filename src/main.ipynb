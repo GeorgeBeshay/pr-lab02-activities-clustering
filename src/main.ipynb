{
 "cells": [
  {
   "cell_type": "markdown",
   "source": [
    "# Imports"
   ],
   "metadata": {
    "collapsed": false
   },
   "id": "13702c25168fa312"
  },
  {
   "cell_type": "code",
   "outputs": [],
   "source": [
    "import numpy as np\n",
    "import data"
   ],
   "metadata": {
    "collapsed": false,
    "ExecuteTime": {
     "end_time": "2024-03-22T14:00:18.099087Z",
     "start_time": "2024-03-22T14:00:18.094180Z"
    }
   },
   "id": "536e1dd031bef1bf",
   "execution_count": 5
  },
  {
   "cell_type": "markdown",
   "source": [
    "# Reading Data"
   ],
   "metadata": {
    "collapsed": false
   },
   "id": "4a09979437deefd7"
  },
  {
   "cell_type": "code",
   "execution_count": 6,
   "id": "initial_id",
   "metadata": {
    "collapsed": true,
    "ExecuteTime": {
     "end_time": "2024-03-22T14:04:20.670535Z",
     "start_time": "2024-03-22T14:00:18.107115Z"
    }
   },
   "outputs": [
    {
     "name": "stdout",
     "output_type": "stream",
     "text": [
      "Pure Dataset Dims:                           (9120, 125, 45)\n",
      "Solution A Dataset Dims:                     (9120, 45)\n",
      "Solution B (before projection) Dataset Dims: (9120, 5625)\n",
      "Solution B (after projection) Dataset Dims:  (9120, 654)\n",
      "\n",
      "Train and Test Splits (solution A) Dims:  \n",
      "\tx_train.shape =              (7296, 45)\n",
      "\ty_train.shape =              (7296,)\n",
      "\tx_test.shape =               (1824, 45)\n",
      "\ty_test.shape =               (1824,)\n",
      "\n",
      "Train and Test Splits (solution B) Dims:  \n",
      "\tx_train.shape =              (7296, 654)\n",
      "\ty_train.shape =              (7296,)\n",
      "\tx_test.shape =               (1824, 654)\n",
      "\ty_test.shape =               (1824,)\n"
     ]
    }
   ],
   "source": [
    "dataLoader = data.DataLoader()\n",
    "\n",
    "pure_dataset = dataLoader.get_pure_data()\n",
    "solution_a_dataset = dataLoader.get_modified_data_solution_a()\n",
    "solution_b_dataset_before_projection = dataLoader._get_modified_data_solution_b_before_projection()\n",
    "solution_b_dataset = dataLoader.get_modified_data_solution_b()\n",
    "x_train, y_train, x_test, y_test = dataLoader.get_splitted_data(solution_a=True)\n",
    "x_train2, y_train2, x_test2, y_test2 = dataLoader.get_splitted_data(solution_a=False)\n",
    "\n",
    "print(f\"Pure Dataset Dims:                           {pure_dataset.shape}\")\n",
    "print(f\"Solution A Dataset Dims:                     {solution_a_dataset.shape}\")\n",
    "print(f\"Solution B (before projection) Dataset Dims: {solution_b_dataset_before_projection.shape}\")\n",
    "print(f\"Solution B (after projection) Dataset Dims:  {solution_b_dataset.shape}\\n\")\n",
    "print(f\"Train and Test Splits (solution A) Dims:  \\n\"\n",
    "      f\"\\tx_train.shape =              {x_train.shape}\\n\"\n",
    "      f\"\\ty_train.shape =              {y_train.shape}\\n\"\n",
    "      f\"\\tx_test.shape =               {x_test.shape}\\n\"\n",
    "      f\"\\ty_test.shape =               {y_test.shape}\\n\")\n",
    "print(f\"Train and Test Splits (solution B) Dims:  \\n\"\n",
    "      f\"\\tx_train.shape =              {x_train2.shape}\\n\"\n",
    "      f\"\\ty_train.shape =              {y_train2.shape}\\n\"\n",
    "      f\"\\tx_test.shape =               {x_test2.shape}\\n\"\n",
    "      f\"\\ty_test.shape =               {y_test2.shape}\\n\")"
   ]
  },
  {
   "cell_type": "code",
   "outputs": [],
   "source": [],
   "metadata": {
    "collapsed": false,
    "ExecuteTime": {
     "end_time": "2024-03-22T14:04:20.675026Z",
     "start_time": "2024-03-22T14:04:20.672544Z"
    }
   },
   "id": "74ce67b32dab38f5",
   "execution_count": 6
  }
 ],
 "metadata": {
  "kernelspec": {
   "display_name": "Python 3",
   "language": "python",
   "name": "python3"
  },
  "language_info": {
   "codemirror_mode": {
    "name": "ipython",
    "version": 2
   },
   "file_extension": ".py",
   "mimetype": "text/x-python",
   "name": "python",
   "nbconvert_exporter": "python",
   "pygments_lexer": "ipython2",
   "version": "2.7.6"
  }
 },
 "nbformat": 4,
 "nbformat_minor": 5
}
