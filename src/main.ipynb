{
 "cells": [
  {
   "cell_type": "markdown",
   "source": [
    "# Imports"
   ],
   "metadata": {
    "collapsed": false
   },
   "id": "13702c25168fa312"
  },
  {
   "cell_type": "code",
   "outputs": [],
   "source": [
    "import numpy as np\n",
    "import matplotlib.pyplot as plt\n",
    "import random\n",
    "import data\n",
    "from spectral_clustering import SpectralClustering\n",
    "from Evaluator import Evaluator\n",
    "from typing import List\n",
    "from tabulate import tabulate"
   ],
   "metadata": {
    "collapsed": false,
    "ExecuteTime": {
     "end_time": "2024-03-24T22:24:34.093678Z",
     "start_time": "2024-03-24T22:24:33.250065Z"
    }
   },
   "id": "536e1dd031bef1bf",
   "execution_count": 1
  },
  {
   "cell_type": "markdown",
   "source": [
    "# Reading Data"
   ],
   "metadata": {
    "collapsed": false
   },
   "id": "4a09979437deefd7"
  },
  {
   "cell_type": "code",
   "execution_count": 2,
   "id": "initial_id",
   "metadata": {
    "collapsed": true,
    "ExecuteTime": {
     "end_time": "2024-03-24T22:28:01.071796Z",
     "start_time": "2024-03-24T22:24:34.094634Z"
    }
   },
   "outputs": [
    {
     "name": "stdout",
     "output_type": "stream",
     "text": [
      "Pure Dataset Dims:                           (9120, 125, 45)\n",
      "Solution A Dataset Dims:                     (9120, 45)\n",
      "Solution B (before projection) Dataset Dims: (9120, 5625)\n",
      "Solution B (after projection) Dataset Dims:  (9120, 654)\n",
      "\n",
      "Train and Test Splits (solution A) Dims:  \n",
      "\tx_train.shape =              (7296, 45)\n",
      "\ty_train.shape =              (7296,)\n",
      "\tx_test.shape =               (1824, 45)\n",
      "\ty_test.shape =               (1824,)\n",
      "\n",
      "Train and Test Splits (solution B) Dims:  \n",
      "\tx_train.shape =              (7296, 654)\n",
      "\ty_train.shape =              (7296,)\n",
      "\tx_test.shape =               (1824, 654)\n",
      "\ty_test.shape =               (1824,)\n"
     ]
    }
   ],
   "source": [
    "dataLoader = data.DataLoader()\n",
    "\n",
    "pure_dataset = dataLoader.get_pure_data()\n",
    "solution_a_dataset = dataLoader.get_modified_data_solution_a()\n",
    "solution_b_dataset_before_projection = dataLoader._get_modified_data_solution_b_before_projection()\n",
    "solution_b_dataset = dataLoader.get_modified_data_solution_b()\n",
    "x_train, y_train, x_test, y_test = dataLoader.get_splitted_data(solution_a=True)\n",
    "x_train2, y_train2, x_test2, y_test2 = dataLoader.get_splitted_data(solution_a=False)\n",
    "\n",
    "print(f\"Pure Dataset Dims:                           {pure_dataset.shape}\")\n",
    "print(f\"Solution A Dataset Dims:                     {solution_a_dataset.shape}\")\n",
    "print(f\"Solution B (before projection) Dataset Dims: {solution_b_dataset_before_projection.shape}\")\n",
    "print(f\"Solution B (after projection) Dataset Dims:  {solution_b_dataset.shape}\\n\")\n",
    "print(f\"Train and Test Splits (solution A) Dims:  \\n\"\n",
    "      f\"\\tx_train.shape =              {x_train.shape}\\n\"\n",
    "      f\"\\ty_train.shape =              {y_train.shape}\\n\"\n",
    "      f\"\\tx_test.shape =               {x_test.shape}\\n\"\n",
    "      f\"\\ty_test.shape =               {y_test.shape}\\n\")\n",
    "print(f\"Train and Test Splits (solution B) Dims:  \\n\"\n",
    "      f\"\\tx_train.shape =              {x_train2.shape}\\n\"\n",
    "      f\"\\ty_train.shape =              {y_train2.shape}\\n\"\n",
    "      f\"\\tx_test.shape =               {x_test2.shape}\\n\"\n",
    "      f\"\\ty_test.shape =               {y_test2.shape}\\n\")"
   ]
  },
  {
   "cell_type": "markdown",
   "source": [
    "# Spectral Clustering"
   ],
   "metadata": {
    "collapsed": false
   },
   "id": "1d03a419033ef247"
  },
  {
   "cell_type": "code",
   "outputs": [
    {
     "name": "stderr",
     "output_type": "stream",
     "text": [
      "D:\\College\\Level 3\\Spring 2023 - 2024\\CSE 352 - Pattern Recognition\\Labs\\Lab 02\\pr-lab02-activities-clustering\\src\\spectral_clustering.py:32: RuntimeWarning: invalid value encountered in divide\n",
      "  Y = U / norm(U, axis=1, keepdims=True)\n",
      "D:\\College\\Level 3\\Spring 2023 - 2024\\CSE 352 - Pattern Recognition\\Labs\\Lab 02\\pr-lab02-activities-clustering\\src\\Kmeans.py:35: RuntimeWarning: Mean of empty slice.\n",
      "  return np.array([X[self.clusters == i].mean(axis=0) for i in range(self.k)])\n",
      "D:\\College\\Level 3\\Spring 2023 - 2024\\CSE 352 - Pattern Recognition\\Labs\\Lab 02\\pr-lab02-activities-clustering\\src\\venv\\Lib\\site-packages\\numpy\\core\\_methods.py:121: RuntimeWarning: invalid value encountered in divide\n",
      "  ret = um.true_divide(\n"
     ]
    },
    {
     "name": "stdout",
     "output_type": "stream",
     "text": [
      "(1824, 19) (1824, 19)\n"
     ]
    }
   ],
   "source": [
    "spectralClustering = SpectralClustering()\n",
    "spectralClustering.fit(x_test)\n",
    "clusters_found = spectralClustering.predict()"
   ],
   "metadata": {
    "collapsed": false,
    "ExecuteTime": {
     "end_time": "2024-03-24T22:28:08.824374Z",
     "start_time": "2024-03-24T22:28:01.072806Z"
    }
   },
   "id": "2a9322e48d9e459f",
   "execution_count": 3
  },
  {
   "cell_type": "code",
   "outputs": [
    {
     "data": {
      "text/plain": "array([0, 0, 0, ..., 0, 0, 0], dtype=int64)"
     },
     "execution_count": 5,
     "metadata": {},
     "output_type": "execute_result"
    }
   ],
   "source": [
    "clusters_found"
   ],
   "metadata": {
    "collapsed": false,
    "ExecuteTime": {
     "end_time": "2024-03-24T22:28:44.361828Z",
     "start_time": "2024-03-24T22:28:44.355935Z"
    }
   },
   "id": "9de5db414ca76013",
   "execution_count": 5
  },
  {
   "cell_type": "markdown",
   "source": [
    "# References and Resources"
   ],
   "metadata": {
    "collapsed": false
   },
   "id": "3eb3ef95e81654b6"
  },
  {
   "cell_type": "markdown",
   "source": [
    "1. [PEP 8 Style Guide For Python Code - Module Names](https://peps.python.org/pep-0008/#package-and-module-names) "
   ],
   "metadata": {
    "collapsed": false
   },
   "id": "3bff29ae3a18fd16"
  },
  {
   "cell_type": "code",
   "outputs": [],
   "source": [],
   "metadata": {
    "collapsed": false,
    "ExecuteTime": {
     "end_time": "2024-03-24T22:28:08.837500Z",
     "start_time": "2024-03-24T22:28:08.835340Z"
    }
   },
   "id": "9248bd83bb03f17d",
   "execution_count": 4
  }
 ],
 "metadata": {
  "kernelspec": {
   "display_name": "Python 3",
   "language": "python",
   "name": "python3"
  },
  "language_info": {
   "codemirror_mode": {
    "name": "ipython",
    "version": 2
   },
   "file_extension": ".py",
   "mimetype": "text/x-python",
   "name": "python",
   "nbconvert_exporter": "python",
   "pygments_lexer": "ipython2",
   "version": "2.7.6"
  }
 },
 "nbformat": 4,
 "nbformat_minor": 5
}
