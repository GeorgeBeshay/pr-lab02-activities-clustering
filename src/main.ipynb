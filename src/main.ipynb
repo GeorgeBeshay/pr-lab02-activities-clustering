{
 "cells": [
  {
   "cell_type": "markdown",
   "source": [
    "# Imports"
   ],
   "metadata": {
    "collapsed": false
   },
   "id": "13702c25168fa312"
  },
  {
   "cell_type": "code",
   "outputs": [],
   "source": [
    "import numpy as np\n",
    "import matplotlib.pyplot as plt\n",
    "import random\n",
    "import data\n",
    "from spectral_clustering import SpectralClustering\n",
    "from Evaluator import Evaluator\n",
    "from typing import List\n",
    "from tabulate import tabulate"
   ],
   "metadata": {
    "collapsed": false,
    "ExecuteTime": {
     "end_time": "2024-03-25T13:39:15.379860Z",
     "start_time": "2024-03-25T13:39:10.149324Z"
    }
   },
   "id": "536e1dd031bef1bf",
   "execution_count": 1
  },
  {
   "cell_type": "markdown",
   "source": [
    "# Reading Data"
   ],
   "metadata": {
    "collapsed": false
   },
   "id": "4a09979437deefd7"
  },
  {
   "cell_type": "code",
   "execution_count": 2,
   "id": "initial_id",
   "metadata": {
    "collapsed": true,
    "ExecuteTime": {
     "end_time": "2024-03-25T13:41:45.014807Z",
     "start_time": "2024-03-25T13:39:15.380875Z"
    }
   },
   "outputs": [
    {
     "name": "stdout",
     "output_type": "stream",
     "text": [
      "Pure Dataset Dims:                           (9120, 125, 45)\n",
      "Solution A Dataset Dims:                     (9120, 45)\n",
      "Solution B (before projection) Dataset Dims: (9120, 5625)\n",
      "Solution B (after projection) Dataset Dims:  (9120, 654)\n",
      "\n",
      "Train and Test Splits (solution A) Dims:  \n",
      "\tx_train.shape =              (7296, 45)\n",
      "\ty_train.shape =              (7296,)\n",
      "\tx_test.shape =               (1824, 45)\n",
      "\ty_test.shape =               (1824,)\n",
      "\n",
      "Train and Test Splits (solution B) Dims:  \n",
      "\tx_train.shape =              (7296, 654)\n",
      "\ty_train.shape =              (7296,)\n",
      "\tx_test.shape =               (1824, 654)\n",
      "\ty_test.shape =               (1824,)\n"
     ]
    }
   ],
   "source": [
    "dataLoader = data.DataLoader()\n",
    "\n",
    "pure_dataset = dataLoader.get_pure_data()\n",
    "solution_a_dataset = dataLoader.get_modified_data_solution_a()\n",
    "solution_b_dataset_before_projection = dataLoader._get_modified_data_solution_b_before_projection()\n",
    "solution_b_dataset = dataLoader.get_modified_data_solution_b()\n",
    "x_train, y_train, x_test, y_test = dataLoader.get_splitted_data(solution_a=True)\n",
    "x_train2, y_train2, x_test2, y_test2 = dataLoader.get_splitted_data(solution_a=False)\n",
    "\n",
    "print(f\"Pure Dataset Dims:                           {pure_dataset.shape}\")\n",
    "print(f\"Solution A Dataset Dims:                     {solution_a_dataset.shape}\")\n",
    "print(f\"Solution B (before projection) Dataset Dims: {solution_b_dataset_before_projection.shape}\")\n",
    "print(f\"Solution B (after projection) Dataset Dims:  {solution_b_dataset.shape}\\n\")\n",
    "print(f\"Train and Test Splits (solution A) Dims:  \\n\"\n",
    "      f\"\\tx_train.shape =              {x_train.shape}\\n\"\n",
    "      f\"\\ty_train.shape =              {y_train.shape}\\n\"\n",
    "      f\"\\tx_test.shape =               {x_test.shape}\\n\"\n",
    "      f\"\\ty_test.shape =               {y_test.shape}\\n\")\n",
    "print(f\"Train and Test Splits (solution B) Dims:  \\n\"\n",
    "      f\"\\tx_train.shape =              {x_train2.shape}\\n\"\n",
    "      f\"\\ty_train.shape =              {y_train2.shape}\\n\"\n",
    "      f\"\\tx_test.shape =               {x_test2.shape}\\n\"\n",
    "      f\"\\ty_test.shape =               {y_test2.shape}\\n\")"
   ]
  },
  {
   "cell_type": "markdown",
   "source": [
    "# Spectral Clustering"
   ],
   "metadata": {
    "collapsed": false
   },
   "id": "1d03a419033ef247"
  },
  {
   "cell_type": "code",
   "outputs": [],
   "source": [
    "spectralClustering = SpectralClustering()\n",
    "spectralClustering.fit(x_train)\n",
    "clusters_found = spectralClustering.predict()"
   ],
   "metadata": {
    "collapsed": false,
    "ExecuteTime": {
     "end_time": "2024-03-25T14:25:22.636692Z",
     "start_time": "2024-03-25T14:23:34.443324Z"
    }
   },
   "id": "2a9322e48d9e459f",
   "execution_count": 31
  },
  {
   "cell_type": "code",
   "outputs": [
    {
     "name": "stdout",
     "output_type": "stream",
     "text": [
      "19\n",
      "0.2168529564152957\n"
     ]
    },
    {
     "data": {
      "text/plain": "array([[  0.,  90.,   0.,   0.,   0.,   0.,   0.,   0.,   0.,   0.,   0.,\n          0.,   0.,   0.,   0.,   0.,   0.,   0.,   0.],\n       [  0.,   0.,   0.,   0.,  12.,  12.,  73.,   0., 124.,  19., 111.,\n         58.,   0.,   0.,   0.,   0.,   0.,   0.,   0.],\n       [  0.,   0.,   0.,   0.,   0.,   0.,   0.,   0.,   0.,   0.,   0.,\n          3., 141., 124.,  88.,   0.,   0.,   0.,   0.],\n       [380., 116.,  12.,  58., 169., 294.,  99.,   4.,  79., 184.,  80.,\n        111., 120., 120., 110., 360.,   0.,   0.,   0.],\n       [  0.,   0.,   0.,   0.,   0.,   0.,   0., 211.,  14.,   4.,  19.,\n          0.,   0.,   0.,   0.,   0.,   0.,   0.,   0.],\n       [  0.,   0.,   0.,   0.,   0.,   0.,   0.,   0.,   0.,   0.,   0.,\n          1., 123., 140., 144.,   0.,   0.,   0.,   0.],\n       [  0.,  14., 119.,  91.,   0.,   0.,   0.,   0.,   0.,   0.,   0.,\n          0.,   0.,   0.,   0.,   0.,   0.,   0.,   0.],\n       [  0.,   0.,   0.,   0.,   0.,   0., 120.,   0.,   5.,   0.,  11.,\n         85.,   0.,   0.,   0.,   0.,   0.,   0.,   0.],\n       [  0.,   0.,   0.,   0.,   0.,   0.,   4., 165.,   0.,   0.,   0.,\n          0.,   0.,   0.,   0.,   0.,   0.,   0.,   0.],\n       [  0.,  20., 180.,  85.,   0.,   0.,   0.,   0.,   0.,   0.,   2.,\n         15.,   0.,   0.,   0.,   0.,   0.,   0.,   0.],\n       [  0.,   0.,   0.,   0.,   0.,   9.,  40.,   0., 158.,   6.,  90.,\n          0.,   0.,   0.,   0.,   0.,   0.,   0.,   0.],\n       [  0.,   0.,   0.,   0.,   0.,   0.,   0.,   0.,   0.,   0.,  24.,\n        111.,   0.,   0.,   0.,   0.,   0.,   0.,   0.],\n       [  0.,   0.,   0.,   0.,   0.,  14.,   0.,   0.,   4., 159.,   0.,\n          0.,   0.,   0.,   0.,   1.,   0.,   0.,   0.],\n       [  0.,  22.,  53.,  54.,  16.,   0.,   0.,   0.,   0.,   0.,   0.,\n          0.,   0.,   0.,   0.,   2.,   0.,   0.,   0.],\n       [  4.,  98.,   0.,   0.,   0.,   0.,   0.,   0.,   0.,   0.,   0.,\n          0.,   0.,   0.,   0.,   0.,   0.,   0.,   0.],\n       [  0.,   6.,   6.,  34., 146.,   0.,   0.,   0.,   0.,   0.,   0.,\n          0.,   0.,   0.,  12.,  12.,   0.,   0.,   0.],\n       [  0.,  18.,  14.,  62.,   3.,   0.,   0.,   0.,   0.,   0.,   0.,\n          0.,   0.,   0.,   0.,   0.,   0.,   0.,   0.],\n       [  0.,   0.,   0.,   0.,  38.,  24.,   0.,   4.,   0.,   0.,   0.,\n          0.,   0.,   0.,  30.,   5.,   0.,   0.,   0.],\n       [  0.,   0.,   0.,   0.,   0.,  31.,  48.,   0.,   0.,  12.,  47.,\n          0.,   0.,   0.,   0.,   0.,   0.,   0.,   0.]])"
     },
     "execution_count": 34,
     "metadata": {},
     "output_type": "execute_result"
    }
   ],
   "source": [
    "# print(len(np.unique(clusters_found)))\n",
    "# evaluator = Evaluator(y_train - 1, clusters_found)\n",
    "# print(evaluator.compute_f1())\n",
    "# evaluator.confusion_matrix"
   ],
   "metadata": {
    "collapsed": false,
    "ExecuteTime": {
     "end_time": "2024-03-25T14:40:32.414746Z",
     "start_time": "2024-03-25T14:40:32.386422Z"
    }
   },
   "id": "9de5db414ca76013",
   "execution_count": 34
  },
  {
   "cell_type": "markdown",
   "source": [
    "# References and Resources"
   ],
   "metadata": {
    "collapsed": false
   },
   "id": "3eb3ef95e81654b6"
  },
  {
   "cell_type": "markdown",
   "source": [
    "1. [PEP 8 Style Guide For Python Code - Module Names](https://peps.python.org/pep-0008/#package-and-module-names) "
   ],
   "metadata": {
    "collapsed": false
   },
   "id": "3bff29ae3a18fd16"
  },
  {
   "cell_type": "code",
   "outputs": [],
   "source": [],
   "metadata": {
    "collapsed": false,
    "ExecuteTime": {
     "end_time": "2024-03-25T13:41:50.426222Z",
     "start_time": "2024-03-25T13:41:50.423933Z"
    }
   },
   "id": "f4d6c8a459b0eb19",
   "execution_count": 6
  }
 ],
 "metadata": {
  "kernelspec": {
   "display_name": "Python 3",
   "language": "python",
   "name": "python3"
  },
  "language_info": {
   "codemirror_mode": {
    "name": "ipython",
    "version": 2
   },
   "file_extension": ".py",
   "mimetype": "text/x-python",
   "name": "python",
   "nbconvert_exporter": "python",
   "pygments_lexer": "ipython2",
   "version": "2.7.6"
  }
 },
 "nbformat": 4,
 "nbformat_minor": 5
}
