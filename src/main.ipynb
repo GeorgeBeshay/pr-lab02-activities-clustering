{
 "cells": [
  {
   "cell_type": "markdown",
   "source": [
    "# Imports"
   ],
   "metadata": {
    "collapsed": false
   },
   "id": "13702c25168fa312"
  },
  {
   "cell_type": "code",
   "outputs": [],
   "source": [
    "import numpy as np\n",
    "import data"
   ],
   "metadata": {
    "collapsed": false,
    "ExecuteTime": {
     "end_time": "2024-03-21T21:26:49.210311Z",
     "start_time": "2024-03-21T21:26:49.206195Z"
    }
   },
   "id": "536e1dd031bef1bf",
   "execution_count": 3
  },
  {
   "cell_type": "markdown",
   "source": [
    "# Reading Data"
   ],
   "metadata": {
    "collapsed": false
   },
   "id": "4a09979437deefd7"
  },
  {
   "cell_type": "code",
   "execution_count": 4,
   "id": "initial_id",
   "metadata": {
    "collapsed": true,
    "ExecuteTime": {
     "end_time": "2024-03-21T21:28:05.096227Z",
     "start_time": "2024-03-21T21:26:49.220320Z"
    }
   },
   "outputs": [
    {
     "name": "stdout",
     "output_type": "stream",
     "text": [
      "Pure Dataset Dims:                           (9120, 125, 45)\n",
      "Solution A Dataset Dims:                     (9120, 45)\n",
      "Solution B (before projection) Dataset Dims: (9120, 5625)\n",
      "Solution B (after projection) Dataset Dims:  (9120, 654)\n"
     ]
    }
   ],
   "source": [
    "dataLoader = data.DataLoader()\n",
    "\n",
    "pure_dataset = dataLoader.get_pure_data()\n",
    "solution_a_dataset = dataLoader.get_modified_data_solution_a()\n",
    "solution_b_dataset_before_projection = dataLoader._get_modified_data_solution_b_before_projection()\n",
    "solution_b_dataset = dataLoader.get_modified_data_solution_b()\n",
    "\n",
    "print(f\"Pure Dataset Dims:                           {pure_dataset.shape}\")\n",
    "print(f\"Solution A Dataset Dims:                     {solution_a_dataset.shape}\")\n",
    "print(f\"Solution B (before projection) Dataset Dims: {solution_b_dataset_before_projection.shape}\")\n",
    "print(f\"Solution B (after projection) Dataset Dims:  {solution_b_dataset.shape}\")"
   ]
  },
  {
   "cell_type": "code",
   "outputs": [],
   "source": [],
   "metadata": {
    "collapsed": false,
    "ExecuteTime": {
     "end_time": "2024-03-21T21:28:05.100518Z",
     "start_time": "2024-03-21T21:28:05.097254Z"
    }
   },
   "id": "4125d5f75c34f1fa",
   "execution_count": 4
  }
 ],
 "metadata": {
  "kernelspec": {
   "display_name": "Python 3",
   "language": "python",
   "name": "python3"
  },
  "language_info": {
   "codemirror_mode": {
    "name": "ipython",
    "version": 2
   },
   "file_extension": ".py",
   "mimetype": "text/x-python",
   "name": "python",
   "nbconvert_exporter": "python",
   "pygments_lexer": "ipython2",
   "version": "2.7.6"
  }
 },
 "nbformat": 4,
 "nbformat_minor": 5
}
